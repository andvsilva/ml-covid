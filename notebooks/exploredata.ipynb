{
 "cells": [
  {
   "cell_type": "code",
   "execution_count": 254,
   "metadata": {},
   "outputs": [],
   "source": [
    "import pandas as pd\n",
    "import matplotlib.pyplot as plt\n",
    "import seaborn as sns\n",
    "import numpy as np\n",
    "from sklearn.feature_selection import SelectKBest, mutual_info_regression\n",
    "from sklearn.neural_network import MLPClassifier\n",
    "from sklearn.model_selection import train_test_split\n",
    "from sklearn.metrics import accuracy_score"
   ]
  },
  {
   "cell_type": "code",
   "execution_count": 255,
   "metadata": {},
   "outputs": [
    {
     "data": {
      "text/html": [
       "<div>\n",
       "<style scoped>\n",
       "    .dataframe tbody tr th:only-of-type {\n",
       "        vertical-align: middle;\n",
       "    }\n",
       "\n",
       "    .dataframe tbody tr th {\n",
       "        vertical-align: top;\n",
       "    }\n",
       "\n",
       "    .dataframe thead th {\n",
       "        text-align: right;\n",
       "    }\n",
       "</style>\n",
       "<table border=\"1\" class=\"dataframe\">\n",
       "  <thead>\n",
       "    <tr style=\"text-align: right;\">\n",
       "      <th></th>\n",
       "      <th>USMER</th>\n",
       "      <th>MEDICAL_UNIT</th>\n",
       "      <th>SEX</th>\n",
       "      <th>PATIENT_TYPE</th>\n",
       "      <th>DATE_DIED</th>\n",
       "      <th>INTUBED</th>\n",
       "      <th>PNEUMONIA</th>\n",
       "      <th>AGE</th>\n",
       "      <th>PREGNANT</th>\n",
       "      <th>DIABETES</th>\n",
       "      <th>...</th>\n",
       "      <th>ASTHMA</th>\n",
       "      <th>INMSUPR</th>\n",
       "      <th>HIPERTENSION</th>\n",
       "      <th>OTHER_DISEASE</th>\n",
       "      <th>CARDIOVASCULAR</th>\n",
       "      <th>OBESITY</th>\n",
       "      <th>RENAL_CHRONIC</th>\n",
       "      <th>TOBACCO</th>\n",
       "      <th>CLASIFFICATION_FINAL</th>\n",
       "      <th>ICU</th>\n",
       "    </tr>\n",
       "  </thead>\n",
       "  <tbody>\n",
       "    <tr>\n",
       "      <th>0</th>\n",
       "      <td>2</td>\n",
       "      <td>1</td>\n",
       "      <td>1</td>\n",
       "      <td>1</td>\n",
       "      <td>03/05/2020</td>\n",
       "      <td>97</td>\n",
       "      <td>1</td>\n",
       "      <td>65</td>\n",
       "      <td>2</td>\n",
       "      <td>2</td>\n",
       "      <td>...</td>\n",
       "      <td>2</td>\n",
       "      <td>2</td>\n",
       "      <td>1</td>\n",
       "      <td>2</td>\n",
       "      <td>2</td>\n",
       "      <td>2</td>\n",
       "      <td>2</td>\n",
       "      <td>2</td>\n",
       "      <td>3</td>\n",
       "      <td>97</td>\n",
       "    </tr>\n",
       "    <tr>\n",
       "      <th>1</th>\n",
       "      <td>2</td>\n",
       "      <td>1</td>\n",
       "      <td>2</td>\n",
       "      <td>1</td>\n",
       "      <td>03/06/2020</td>\n",
       "      <td>97</td>\n",
       "      <td>1</td>\n",
       "      <td>72</td>\n",
       "      <td>97</td>\n",
       "      <td>2</td>\n",
       "      <td>...</td>\n",
       "      <td>2</td>\n",
       "      <td>2</td>\n",
       "      <td>1</td>\n",
       "      <td>2</td>\n",
       "      <td>2</td>\n",
       "      <td>1</td>\n",
       "      <td>1</td>\n",
       "      <td>2</td>\n",
       "      <td>5</td>\n",
       "      <td>97</td>\n",
       "    </tr>\n",
       "    <tr>\n",
       "      <th>2</th>\n",
       "      <td>2</td>\n",
       "      <td>1</td>\n",
       "      <td>2</td>\n",
       "      <td>2</td>\n",
       "      <td>09/06/2020</td>\n",
       "      <td>1</td>\n",
       "      <td>2</td>\n",
       "      <td>55</td>\n",
       "      <td>97</td>\n",
       "      <td>1</td>\n",
       "      <td>...</td>\n",
       "      <td>2</td>\n",
       "      <td>2</td>\n",
       "      <td>2</td>\n",
       "      <td>2</td>\n",
       "      <td>2</td>\n",
       "      <td>2</td>\n",
       "      <td>2</td>\n",
       "      <td>2</td>\n",
       "      <td>3</td>\n",
       "      <td>2</td>\n",
       "    </tr>\n",
       "    <tr>\n",
       "      <th>3</th>\n",
       "      <td>2</td>\n",
       "      <td>1</td>\n",
       "      <td>1</td>\n",
       "      <td>1</td>\n",
       "      <td>12/06/2020</td>\n",
       "      <td>97</td>\n",
       "      <td>2</td>\n",
       "      <td>53</td>\n",
       "      <td>2</td>\n",
       "      <td>2</td>\n",
       "      <td>...</td>\n",
       "      <td>2</td>\n",
       "      <td>2</td>\n",
       "      <td>2</td>\n",
       "      <td>2</td>\n",
       "      <td>2</td>\n",
       "      <td>2</td>\n",
       "      <td>2</td>\n",
       "      <td>2</td>\n",
       "      <td>7</td>\n",
       "      <td>97</td>\n",
       "    </tr>\n",
       "    <tr>\n",
       "      <th>4</th>\n",
       "      <td>2</td>\n",
       "      <td>1</td>\n",
       "      <td>2</td>\n",
       "      <td>1</td>\n",
       "      <td>21/06/2020</td>\n",
       "      <td>97</td>\n",
       "      <td>2</td>\n",
       "      <td>68</td>\n",
       "      <td>97</td>\n",
       "      <td>1</td>\n",
       "      <td>...</td>\n",
       "      <td>2</td>\n",
       "      <td>2</td>\n",
       "      <td>1</td>\n",
       "      <td>2</td>\n",
       "      <td>2</td>\n",
       "      <td>2</td>\n",
       "      <td>2</td>\n",
       "      <td>2</td>\n",
       "      <td>3</td>\n",
       "      <td>97</td>\n",
       "    </tr>\n",
       "    <tr>\n",
       "      <th>...</th>\n",
       "      <td>...</td>\n",
       "      <td>...</td>\n",
       "      <td>...</td>\n",
       "      <td>...</td>\n",
       "      <td>...</td>\n",
       "      <td>...</td>\n",
       "      <td>...</td>\n",
       "      <td>...</td>\n",
       "      <td>...</td>\n",
       "      <td>...</td>\n",
       "      <td>...</td>\n",
       "      <td>...</td>\n",
       "      <td>...</td>\n",
       "      <td>...</td>\n",
       "      <td>...</td>\n",
       "      <td>...</td>\n",
       "      <td>...</td>\n",
       "      <td>...</td>\n",
       "      <td>...</td>\n",
       "      <td>...</td>\n",
       "      <td>...</td>\n",
       "    </tr>\n",
       "    <tr>\n",
       "      <th>1048570</th>\n",
       "      <td>2</td>\n",
       "      <td>13</td>\n",
       "      <td>2</td>\n",
       "      <td>1</td>\n",
       "      <td>9999-99-99</td>\n",
       "      <td>97</td>\n",
       "      <td>2</td>\n",
       "      <td>40</td>\n",
       "      <td>97</td>\n",
       "      <td>2</td>\n",
       "      <td>...</td>\n",
       "      <td>2</td>\n",
       "      <td>2</td>\n",
       "      <td>2</td>\n",
       "      <td>2</td>\n",
       "      <td>2</td>\n",
       "      <td>2</td>\n",
       "      <td>2</td>\n",
       "      <td>2</td>\n",
       "      <td>7</td>\n",
       "      <td>97</td>\n",
       "    </tr>\n",
       "    <tr>\n",
       "      <th>1048571</th>\n",
       "      <td>1</td>\n",
       "      <td>13</td>\n",
       "      <td>2</td>\n",
       "      <td>2</td>\n",
       "      <td>9999-99-99</td>\n",
       "      <td>2</td>\n",
       "      <td>2</td>\n",
       "      <td>51</td>\n",
       "      <td>97</td>\n",
       "      <td>2</td>\n",
       "      <td>...</td>\n",
       "      <td>2</td>\n",
       "      <td>2</td>\n",
       "      <td>1</td>\n",
       "      <td>2</td>\n",
       "      <td>2</td>\n",
       "      <td>2</td>\n",
       "      <td>2</td>\n",
       "      <td>2</td>\n",
       "      <td>7</td>\n",
       "      <td>2</td>\n",
       "    </tr>\n",
       "    <tr>\n",
       "      <th>1048572</th>\n",
       "      <td>2</td>\n",
       "      <td>13</td>\n",
       "      <td>2</td>\n",
       "      <td>1</td>\n",
       "      <td>9999-99-99</td>\n",
       "      <td>97</td>\n",
       "      <td>2</td>\n",
       "      <td>55</td>\n",
       "      <td>97</td>\n",
       "      <td>2</td>\n",
       "      <td>...</td>\n",
       "      <td>2</td>\n",
       "      <td>2</td>\n",
       "      <td>2</td>\n",
       "      <td>2</td>\n",
       "      <td>2</td>\n",
       "      <td>2</td>\n",
       "      <td>2</td>\n",
       "      <td>2</td>\n",
       "      <td>7</td>\n",
       "      <td>97</td>\n",
       "    </tr>\n",
       "    <tr>\n",
       "      <th>1048573</th>\n",
       "      <td>2</td>\n",
       "      <td>13</td>\n",
       "      <td>2</td>\n",
       "      <td>1</td>\n",
       "      <td>9999-99-99</td>\n",
       "      <td>97</td>\n",
       "      <td>2</td>\n",
       "      <td>28</td>\n",
       "      <td>97</td>\n",
       "      <td>2</td>\n",
       "      <td>...</td>\n",
       "      <td>2</td>\n",
       "      <td>2</td>\n",
       "      <td>2</td>\n",
       "      <td>2</td>\n",
       "      <td>2</td>\n",
       "      <td>2</td>\n",
       "      <td>2</td>\n",
       "      <td>2</td>\n",
       "      <td>7</td>\n",
       "      <td>97</td>\n",
       "    </tr>\n",
       "    <tr>\n",
       "      <th>1048574</th>\n",
       "      <td>2</td>\n",
       "      <td>13</td>\n",
       "      <td>2</td>\n",
       "      <td>1</td>\n",
       "      <td>9999-99-99</td>\n",
       "      <td>97</td>\n",
       "      <td>2</td>\n",
       "      <td>52</td>\n",
       "      <td>97</td>\n",
       "      <td>2</td>\n",
       "      <td>...</td>\n",
       "      <td>2</td>\n",
       "      <td>2</td>\n",
       "      <td>2</td>\n",
       "      <td>2</td>\n",
       "      <td>2</td>\n",
       "      <td>2</td>\n",
       "      <td>2</td>\n",
       "      <td>2</td>\n",
       "      <td>7</td>\n",
       "      <td>97</td>\n",
       "    </tr>\n",
       "  </tbody>\n",
       "</table>\n",
       "<p>1048575 rows × 21 columns</p>\n",
       "</div>"
      ],
      "text/plain": [
       "         USMER  MEDICAL_UNIT  SEX  PATIENT_TYPE   DATE_DIED  INTUBED  \\\n",
       "0            2             1    1             1  03/05/2020       97   \n",
       "1            2             1    2             1  03/06/2020       97   \n",
       "2            2             1    2             2  09/06/2020        1   \n",
       "3            2             1    1             1  12/06/2020       97   \n",
       "4            2             1    2             1  21/06/2020       97   \n",
       "...        ...           ...  ...           ...         ...      ...   \n",
       "1048570      2            13    2             1  9999-99-99       97   \n",
       "1048571      1            13    2             2  9999-99-99        2   \n",
       "1048572      2            13    2             1  9999-99-99       97   \n",
       "1048573      2            13    2             1  9999-99-99       97   \n",
       "1048574      2            13    2             1  9999-99-99       97   \n",
       "\n",
       "         PNEUMONIA  AGE  PREGNANT  DIABETES  ...  ASTHMA  INMSUPR  \\\n",
       "0                1   65         2         2  ...       2        2   \n",
       "1                1   72        97         2  ...       2        2   \n",
       "2                2   55        97         1  ...       2        2   \n",
       "3                2   53         2         2  ...       2        2   \n",
       "4                2   68        97         1  ...       2        2   \n",
       "...            ...  ...       ...       ...  ...     ...      ...   \n",
       "1048570          2   40        97         2  ...       2        2   \n",
       "1048571          2   51        97         2  ...       2        2   \n",
       "1048572          2   55        97         2  ...       2        2   \n",
       "1048573          2   28        97         2  ...       2        2   \n",
       "1048574          2   52        97         2  ...       2        2   \n",
       "\n",
       "         HIPERTENSION  OTHER_DISEASE  CARDIOVASCULAR  OBESITY  RENAL_CHRONIC  \\\n",
       "0                   1              2               2        2              2   \n",
       "1                   1              2               2        1              1   \n",
       "2                   2              2               2        2              2   \n",
       "3                   2              2               2        2              2   \n",
       "4                   1              2               2        2              2   \n",
       "...               ...            ...             ...      ...            ...   \n",
       "1048570             2              2               2        2              2   \n",
       "1048571             1              2               2        2              2   \n",
       "1048572             2              2               2        2              2   \n",
       "1048573             2              2               2        2              2   \n",
       "1048574             2              2               2        2              2   \n",
       "\n",
       "         TOBACCO  CLASIFFICATION_FINAL  ICU  \n",
       "0              2                     3   97  \n",
       "1              2                     5   97  \n",
       "2              2                     3    2  \n",
       "3              2                     7   97  \n",
       "4              2                     3   97  \n",
       "...          ...                   ...  ...  \n",
       "1048570        2                     7   97  \n",
       "1048571        2                     7    2  \n",
       "1048572        2                     7   97  \n",
       "1048573        2                     7   97  \n",
       "1048574        2                     7   97  \n",
       "\n",
       "[1048575 rows x 21 columns]"
      ]
     },
     "execution_count": 255,
     "metadata": {},
     "output_type": "execute_result"
    }
   ],
   "source": [
    "df_covid = pd.read_csv('../dataset/datacovid.csv')\n",
    "df_covid"
   ]
  },
  {
   "cell_type": "code",
   "execution_count": 256,
   "metadata": {},
   "outputs": [
    {
     "data": {
      "text/plain": [
       "Index(['USMER', 'MEDICAL_UNIT', 'SEX', 'PATIENT_TYPE', 'DATE_DIED', 'INTUBED',\n",
       "       'PNEUMONIA', 'AGE', 'PREGNANT', 'DIABETES', 'COPD', 'ASTHMA', 'INMSUPR',\n",
       "       'HIPERTENSION', 'OTHER_DISEASE', 'CARDIOVASCULAR', 'OBESITY',\n",
       "       'RENAL_CHRONIC', 'TOBACCO', 'CLASIFFICATION_FINAL', 'ICU'],\n",
       "      dtype='object')"
      ]
     },
     "execution_count": 256,
     "metadata": {},
     "output_type": "execute_result"
    }
   ],
   "source": [
    "df_covid.columns"
   ]
  },
  {
   "cell_type": "code",
   "execution_count": 257,
   "metadata": {},
   "outputs": [],
   "source": [
    "#df_covid = pd.to_datetime(df_covid['DATE_DIED'])"
   ]
  },
  {
   "cell_type": "code",
   "execution_count": 258,
   "metadata": {},
   "outputs": [
    {
     "name": "stdout",
     "output_type": "stream",
     "text": [
      "Shape dataset Full:.........observations/rows: 1048575 and columns: 21\n"
     ]
    }
   ],
   "source": [
    "print(f\"Shape dataset Full:.........observations/rows: {df_covid.shape[0]} and columns: {df_covid.shape[1]}\")"
   ]
  },
  {
   "cell_type": "code",
   "execution_count": 259,
   "metadata": {},
   "outputs": [
    {
     "data": {
      "text/plain": [
       "USMER                    int64\n",
       "MEDICAL_UNIT             int64\n",
       "SEX                      int64\n",
       "PATIENT_TYPE             int64\n",
       "DATE_DIED               object\n",
       "INTUBED                  int64\n",
       "PNEUMONIA                int64\n",
       "AGE                      int64\n",
       "PREGNANT                 int64\n",
       "DIABETES                 int64\n",
       "COPD                     int64\n",
       "ASTHMA                   int64\n",
       "INMSUPR                  int64\n",
       "HIPERTENSION             int64\n",
       "OTHER_DISEASE            int64\n",
       "CARDIOVASCULAR           int64\n",
       "OBESITY                  int64\n",
       "RENAL_CHRONIC            int64\n",
       "TOBACCO                  int64\n",
       "CLASIFFICATION_FINAL     int64\n",
       "ICU                      int64\n",
       "dtype: object"
      ]
     },
     "execution_count": 259,
     "metadata": {},
     "output_type": "execute_result"
    }
   ],
   "source": [
    "df_covid.dtypes"
   ]
  },
  {
   "cell_type": "code",
   "execution_count": 286,
   "metadata": {},
   "outputs": [
    {
     "data": {
      "text/plain": [
       "<Figure size 864x720 with 0 Axes>"
      ]
     },
     "execution_count": 286,
     "metadata": {},
     "output_type": "execute_result"
    },
    {
     "data": {
      "text/plain": [
       "<Figure size 864x720 with 0 Axes>"
      ]
     },
     "metadata": {},
     "output_type": "display_data"
    }
   ],
   "source": [
    "plt.style.use('ggplot')\n",
    "from IPython.core.pylabtools import figsize\n",
    "plt.figure(figsize=(12, 10))"
   ]
  },
  {
   "cell_type": "code",
   "execution_count": 287,
   "metadata": {},
   "outputs": [
    {
     "data": {
      "text/plain": [
       "Text(0.5, 1.0, 'Distribution - Age')"
      ]
     },
     "execution_count": 287,
     "metadata": {},
     "output_type": "execute_result"
    },
    {
     "data": {
      "image/png": "[encoded data removed]",
      "text/plain": [
       "<Figure size 720x720 with 1 Axes>"
      ]
     },
     "metadata": {},
     "output_type": "display_data"
    }
   ],
   "source": [
    "plt.hist(df_covid['AGE'], color='blue', edgecolor='black', bins=int(45/1))\n",
    "plt.xlabel('Age')\n",
    "plt.ylabel('Counting')\n",
    "plt.title('Distribution - Age')"
   ]
  },
  {
   "cell_type": "code",
   "execution_count": 288,
   "metadata": {},
   "outputs": [
    {
     "data": {
      "image/png": "[encoded data removed]",
      "text/plain": [
       "<Figure size 720x720 with 2 Axes>"
      ]
     },
     "metadata": {},
     "output_type": "display_data"
    }
   ],
   "source": [
    "df_covid_corr = df_covid.corr()\n",
    "ax1 = sns.heatmap(df_covid_corr, \n",
    "                  cbar=10, \n",
    "                  linewidths=2,\n",
    "                  vmax=1,\n",
    "                  vmin=0,\n",
    "                  square=True,\n",
    "                  cmap='Blues',\n",
    "                  annot=True,\n",
    "                  fmt=\".1f\")\n",
    "plt.show()"
   ]
  },
  {
   "cell_type": "code",
   "execution_count": 263,
   "metadata": {},
   "outputs": [
    {
     "data": {
      "text/plain": [
       "Index(['USMER', 'MEDICAL_UNIT', 'SEX', 'PATIENT_TYPE', 'DATE_DIED', 'INTUBED',\n",
       "       'PNEUMONIA', 'AGE', 'PREGNANT', 'DIABETES', 'COPD', 'ASTHMA', 'INMSUPR',\n",
       "       'HIPERTENSION', 'OTHER_DISEASE', 'CARDIOVASCULAR', 'OBESITY',\n",
       "       'RENAL_CHRONIC', 'TOBACCO', 'CLASIFFICATION_FINAL', 'ICU'],\n",
       "      dtype='object')"
      ]
     },
     "execution_count": 263,
     "metadata": {},
     "output_type": "execute_result"
    }
   ],
   "source": [
    "df_covid.columns"
   ]
  },
  {
   "cell_type": "code",
   "execution_count": 264,
   "metadata": {},
   "outputs": [
    {
     "data": {
      "text/html": [
       "<div>\n",
       "<style scoped>\n",
       "    .dataframe tbody tr th:only-of-type {\n",
       "        vertical-align: middle;\n",
       "    }\n",
       "\n",
       "    .dataframe tbody tr th {\n",
       "        vertical-align: top;\n",
       "    }\n",
       "\n",
       "    .dataframe thead th {\n",
       "        text-align: right;\n",
       "    }\n",
       "</style>\n",
       "<table border=\"1\" class=\"dataframe\">\n",
       "  <thead>\n",
       "    <tr style=\"text-align: right;\">\n",
       "      <th></th>\n",
       "      <th>USMER</th>\n",
       "      <th>MEDICAL_UNIT</th>\n",
       "      <th>SEX</th>\n",
       "      <th>PATIENT_TYPE</th>\n",
       "      <th>DATE_DIED</th>\n",
       "      <th>INTUBED</th>\n",
       "      <th>PNEUMONIA</th>\n",
       "      <th>AGE</th>\n",
       "      <th>PREGNANT</th>\n",
       "      <th>DIABETES</th>\n",
       "      <th>...</th>\n",
       "      <th>ASTHMA</th>\n",
       "      <th>INMSUPR</th>\n",
       "      <th>HIPERTENSION</th>\n",
       "      <th>OTHER_DISEASE</th>\n",
       "      <th>CARDIOVASCULAR</th>\n",
       "      <th>OBESITY</th>\n",
       "      <th>RENAL_CHRONIC</th>\n",
       "      <th>TOBACCO</th>\n",
       "      <th>CLASIFFICATION_FINAL</th>\n",
       "      <th>ICU</th>\n",
       "    </tr>\n",
       "  </thead>\n",
       "  <tbody>\n",
       "    <tr>\n",
       "      <th>1048570</th>\n",
       "      <td>2</td>\n",
       "      <td>13</td>\n",
       "      <td>2</td>\n",
       "      <td>1</td>\n",
       "      <td>9999-99-99</td>\n",
       "      <td>97</td>\n",
       "      <td>2</td>\n",
       "      <td>40</td>\n",
       "      <td>97</td>\n",
       "      <td>2</td>\n",
       "      <td>...</td>\n",
       "      <td>2</td>\n",
       "      <td>2</td>\n",
       "      <td>2</td>\n",
       "      <td>2</td>\n",
       "      <td>2</td>\n",
       "      <td>2</td>\n",
       "      <td>2</td>\n",
       "      <td>2</td>\n",
       "      <td>7</td>\n",
       "      <td>97</td>\n",
       "    </tr>\n",
       "    <tr>\n",
       "      <th>1048571</th>\n",
       "      <td>1</td>\n",
       "      <td>13</td>\n",
       "      <td>2</td>\n",
       "      <td>2</td>\n",
       "      <td>9999-99-99</td>\n",
       "      <td>2</td>\n",
       "      <td>2</td>\n",
       "      <td>51</td>\n",
       "      <td>97</td>\n",
       "      <td>2</td>\n",
       "      <td>...</td>\n",
       "      <td>2</td>\n",
       "      <td>2</td>\n",
       "      <td>1</td>\n",
       "      <td>2</td>\n",
       "      <td>2</td>\n",
       "      <td>2</td>\n",
       "      <td>2</td>\n",
       "      <td>2</td>\n",
       "      <td>7</td>\n",
       "      <td>2</td>\n",
       "    </tr>\n",
       "    <tr>\n",
       "      <th>1048572</th>\n",
       "      <td>2</td>\n",
       "      <td>13</td>\n",
       "      <td>2</td>\n",
       "      <td>1</td>\n",
       "      <td>9999-99-99</td>\n",
       "      <td>97</td>\n",
       "      <td>2</td>\n",
       "      <td>55</td>\n",
       "      <td>97</td>\n",
       "      <td>2</td>\n",
       "      <td>...</td>\n",
       "      <td>2</td>\n",
       "      <td>2</td>\n",
       "      <td>2</td>\n",
       "      <td>2</td>\n",
       "      <td>2</td>\n",
       "      <td>2</td>\n",
       "      <td>2</td>\n",
       "      <td>2</td>\n",
       "      <td>7</td>\n",
       "      <td>97</td>\n",
       "    </tr>\n",
       "    <tr>\n",
       "      <th>1048573</th>\n",
       "      <td>2</td>\n",
       "      <td>13</td>\n",
       "      <td>2</td>\n",
       "      <td>1</td>\n",
       "      <td>9999-99-99</td>\n",
       "      <td>97</td>\n",
       "      <td>2</td>\n",
       "      <td>28</td>\n",
       "      <td>97</td>\n",
       "      <td>2</td>\n",
       "      <td>...</td>\n",
       "      <td>2</td>\n",
       "      <td>2</td>\n",
       "      <td>2</td>\n",
       "      <td>2</td>\n",
       "      <td>2</td>\n",
       "      <td>2</td>\n",
       "      <td>2</td>\n",
       "      <td>2</td>\n",
       "      <td>7</td>\n",
       "      <td>97</td>\n",
       "    </tr>\n",
       "    <tr>\n",
       "      <th>1048574</th>\n",
       "      <td>2</td>\n",
       "      <td>13</td>\n",
       "      <td>2</td>\n",
       "      <td>1</td>\n",
       "      <td>9999-99-99</td>\n",
       "      <td>97</td>\n",
       "      <td>2</td>\n",
       "      <td>52</td>\n",
       "      <td>97</td>\n",
       "      <td>2</td>\n",
       "      <td>...</td>\n",
       "      <td>2</td>\n",
       "      <td>2</td>\n",
       "      <td>2</td>\n",
       "      <td>2</td>\n",
       "      <td>2</td>\n",
       "      <td>2</td>\n",
       "      <td>2</td>\n",
       "      <td>2</td>\n",
       "      <td>7</td>\n",
       "      <td>97</td>\n",
       "    </tr>\n",
       "  </tbody>\n",
       "</table>\n",
       "<p>5 rows × 21 columns</p>\n",
       "</div>"
      ],
      "text/plain": [
       "         USMER  MEDICAL_UNIT  SEX  PATIENT_TYPE   DATE_DIED  INTUBED  \\\n",
       "1048570      2            13    2             1  9999-99-99       97   \n",
       "1048571      1            13    2             2  9999-99-99        2   \n",
       "1048572      2            13    2             1  9999-99-99       97   \n",
       "1048573      2            13    2             1  9999-99-99       97   \n",
       "1048574      2            13    2             1  9999-99-99       97   \n",
       "\n",
       "         PNEUMONIA  AGE  PREGNANT  DIABETES  ...  ASTHMA  INMSUPR  \\\n",
       "1048570          2   40        97         2  ...       2        2   \n",
       "1048571          2   51        97         2  ...       2        2   \n",
       "1048572          2   55        97         2  ...       2        2   \n",
       "1048573          2   28        97         2  ...       2        2   \n",
       "1048574          2   52        97         2  ...       2        2   \n",
       "\n",
       "         HIPERTENSION  OTHER_DISEASE  CARDIOVASCULAR  OBESITY  RENAL_CHRONIC  \\\n",
       "1048570             2              2               2        2              2   \n",
       "1048571             1              2               2        2              2   \n",
       "1048572             2              2               2        2              2   \n",
       "1048573             2              2               2        2              2   \n",
       "1048574             2              2               2        2              2   \n",
       "\n",
       "         TOBACCO  CLASIFFICATION_FINAL  ICU  \n",
       "1048570        2                     7   97  \n",
       "1048571        2                     7    2  \n",
       "1048572        2                     7   97  \n",
       "1048573        2                     7   97  \n",
       "1048574        2                     7   97  \n",
       "\n",
       "[5 rows x 21 columns]"
      ]
     },
     "execution_count": 264,
     "metadata": {},
     "output_type": "execute_result"
    }
   ],
   "source": [
    "df_covid.tail()"
   ]
  },
  {
   "attachments": {},
   "cell_type": "markdown",
   "metadata": {},
   "source": [
    "## Feature Engineering - Target: Die or Alive"
   ]
  },
  {
   "cell_type": "code",
   "execution_count": 265,
   "metadata": {},
   "outputs": [
    {
     "data": {
      "text/plain": [
       "0    Died\n",
       "1    Died\n",
       "2    Died\n",
       "3    Died\n",
       "4    Died\n",
       "Name: alive_or_died, dtype: object"
      ]
     },
     "execution_count": 265,
     "metadata": {},
     "output_type": "execute_result"
    }
   ],
   "source": [
    "# creating a new cloumn based on the column 'DATE_DIED'\n",
    "# DATE is e.g. 15/02/2020 - True(Died), otherwise is False(Alive).\n",
    "df_covid['alive_or_died'] = np.where(df_covid['DATE_DIED']!= '9999-99-99', 'Died', 'Alive')\n",
    "df_covid['alive_or_died'].head()"
   ]
  },
  {
   "cell_type": "code",
   "execution_count": 266,
   "metadata": {},
   "outputs": [
    {
     "data": {
      "text/plain": [
       "Alive    92.66%\n",
       "Died      7.34%\n",
       "Name: alive_or_died, dtype: object"
      ]
     },
     "execution_count": 266,
     "metadata": {},
     "output_type": "execute_result"
    }
   ],
   "source": [
    "df_covid['alive_or_died'].value_counts(normalize=True).map('{:.2%}'.format)"
   ]
  },
  {
   "cell_type": "code",
   "execution_count": 267,
   "metadata": {},
   "outputs": [
    {
     "data": {
      "text/plain": [
       "USMER                      int64\n",
       "MEDICAL_UNIT               int64\n",
       "SEX                        int64\n",
       "PATIENT_TYPE               int64\n",
       "DATE_DIED                 object\n",
       "INTUBED                    int64\n",
       "PNEUMONIA                  int64\n",
       "AGE                        int64\n",
       "PREGNANT                   int64\n",
       "DIABETES                   int64\n",
       "COPD                       int64\n",
       "ASTHMA                     int64\n",
       "INMSUPR                    int64\n",
       "HIPERTENSION               int64\n",
       "OTHER_DISEASE              int64\n",
       "CARDIOVASCULAR             int64\n",
       "OBESITY                    int64\n",
       "RENAL_CHRONIC              int64\n",
       "TOBACCO                    int64\n",
       "CLASIFFICATION_FINAL       int64\n",
       "ICU                        int64\n",
       "alive_or_died           category\n",
       "dtype: object"
      ]
     },
     "execution_count": 267,
     "metadata": {},
     "output_type": "execute_result"
    }
   ],
   "source": [
    "# change type for column of object to category\n",
    "df_covid['alive_or_died'] = df_covid['alive_or_died'].astype('category')\n",
    "df_covid.dtypes"
   ]
  },
  {
   "cell_type": "code",
   "execution_count": 268,
   "metadata": {},
   "outputs": [
    {
     "data": {
      "text/plain": [
       "USMER                      int64\n",
       "MEDICAL_UNIT               int64\n",
       "SEX                        int64\n",
       "PATIENT_TYPE               int64\n",
       "INTUBED                    int64\n",
       "PNEUMONIA                  int64\n",
       "AGE                        int64\n",
       "PREGNANT                   int64\n",
       "DIABETES                   int64\n",
       "COPD                       int64\n",
       "ASTHMA                     int64\n",
       "INMSUPR                    int64\n",
       "HIPERTENSION               int64\n",
       "OTHER_DISEASE              int64\n",
       "CARDIOVASCULAR             int64\n",
       "OBESITY                    int64\n",
       "RENAL_CHRONIC              int64\n",
       "TOBACCO                    int64\n",
       "CLASIFFICATION_FINAL       int64\n",
       "ICU                        int64\n",
       "alive_or_died           category\n",
       "dtype: object"
      ]
     },
     "execution_count": 268,
     "metadata": {},
     "output_type": "execute_result"
    }
   ],
   "source": [
    "df_covid = df_covid.drop(columns='DATE_DIED') # drop column - DATE_DIED\n",
    "df_covid.dtypes"
   ]
  },
  {
   "cell_type": "code",
   "execution_count": 269,
   "metadata": {},
   "outputs": [
    {
     "name": "stdout",
     "output_type": "stream",
     "text": [
      "<class 'pandas.core.frame.DataFrame'>\n",
      "RangeIndex: 1048575 entries, 0 to 1048574\n",
      "Data columns (total 21 columns):\n",
      " #   Column                Non-Null Count    Dtype   \n",
      "---  ------                --------------    -----   \n",
      " 0   USMER                 1048575 non-null  int64   \n",
      " 1   MEDICAL_UNIT          1048575 non-null  int64   \n",
      " 2   SEX                   1048575 non-null  int64   \n",
      " 3   PATIENT_TYPE          1048575 non-null  int64   \n",
      " 4   INTUBED               1048575 non-null  int64   \n",
      " 5   PNEUMONIA             1048575 non-null  int64   \n",
      " 6   AGE                   1048575 non-null  int64   \n",
      " 7   PREGNANT              1048575 non-null  int64   \n",
      " 8   DIABETES              1048575 non-null  int64   \n",
      " 9   COPD                  1048575 non-null  int64   \n",
      " 10  ASTHMA                1048575 non-null  int64   \n",
      " 11  INMSUPR               1048575 non-null  int64   \n",
      " 12  HIPERTENSION          1048575 non-null  int64   \n",
      " 13  OTHER_DISEASE         1048575 non-null  int64   \n",
      " 14  CARDIOVASCULAR        1048575 non-null  int64   \n",
      " 15  OBESITY               1048575 non-null  int64   \n",
      " 16  RENAL_CHRONIC         1048575 non-null  int64   \n",
      " 17  TOBACCO               1048575 non-null  int64   \n",
      " 18  CLASIFFICATION_FINAL  1048575 non-null  int64   \n",
      " 19  ICU                   1048575 non-null  int64   \n",
      " 20  alive_or_died         1048575 non-null  category\n",
      "dtypes: category(1), int64(20)\n",
      "memory usage: 161.0 MB\n"
     ]
    }
   ],
   "source": [
    "df_covid.info()"
   ]
  },
  {
   "cell_type": "code",
   "execution_count": 285,
   "metadata": {},
   "outputs": [
    {
     "data": {
      "text/plain": [
       "<AxesSubplot:>"
      ]
     },
     "execution_count": 285,
     "metadata": {},
     "output_type": "execute_result"
    },
    {
     "data": {
      "image/png": "[encoded data removed]",
      "text/plain": [
       "<Figure size 720x720 with 1 Axes>"
      ]
     },
     "metadata": {},
     "output_type": "display_data"
    }
   ],
   "source": [
    "# box plot\n",
    "df_covid.boxplot(column=[\"AGE\"])"
   ]
  },
  {
   "cell_type": "code",
   "execution_count": 270,
   "metadata": {},
   "outputs": [
    {
     "data": {
      "text/plain": [
       "USMER                     2\n",
       "MEDICAL_UNIT             13\n",
       "SEX                       2\n",
       "PATIENT_TYPE              2\n",
       "INTUBED                   4\n",
       "PNEUMONIA                 3\n",
       "AGE                     121\n",
       "PREGNANT                  4\n",
       "DIABETES                  3\n",
       "COPD                      3\n",
       "ASTHMA                    3\n",
       "INMSUPR                   3\n",
       "HIPERTENSION              3\n",
       "OTHER_DISEASE             3\n",
       "CARDIOVASCULAR            3\n",
       "OBESITY                   3\n",
       "RENAL_CHRONIC             3\n",
       "TOBACCO                   3\n",
       "CLASIFFICATION_FINAL      7\n",
       "ICU                       4\n",
       "alive_or_died             2\n",
       "dtype: int64"
      ]
     },
     "execution_count": 270,
     "metadata": {},
     "output_type": "execute_result"
    }
   ],
   "source": [
    "# counting the differents categories for each columns\n",
    "df_covid.nunique()"
   ]
  },
  {
   "attachments": {},
   "cell_type": "markdown",
   "metadata": {},
   "source": [
    "### Split the data into features and target"
   ]
  },
  {
   "cell_type": "code",
   "execution_count": 271,
   "metadata": {},
   "outputs": [],
   "source": [
    "# Alternatively X and y can be obtained directly from the dataframe attribute:\n",
    "X = df_covid.drop('alive_or_died', axis=1) # drop the column target\n",
    "y = df_covid['alive_or_died'] # target"
   ]
  },
  {
   "attachments": {},
   "cell_type": "markdown",
   "metadata": {},
   "source": [
    "### Training and Validation"
   ]
  },
  {
   "cell_type": "code",
   "execution_count": 272,
   "metadata": {},
   "outputs": [],
   "source": [
    "# Split-out validation dataset\n",
    "X_train, X_validation, Y_train, Y_validation = train_test_split(X, y, test_size=0.2, random_state=1)"
   ]
  },
  {
   "cell_type": "code",
   "execution_count": 273,
   "metadata": {},
   "outputs": [],
   "source": [
    "# model\n",
    "clf = MLPClassifier(alpha=1e-5, hidden_layer_sizes=(5, 2), random_state=1)\n",
    "\n",
    "# fitting the model...\n",
    "clf.fit(X_train, Y_train)\n",
    "\n",
    "# prediction - target\n",
    "predictions = clf.predict(X_validation)"
   ]
  },
  {
   "cell_type": "code",
   "execution_count": 274,
   "metadata": {},
   "outputs": [
    {
     "name": "stdout",
     "output_type": "stream",
     "text": [
      "score:....................: 0.9478864172805951\n"
     ]
    }
   ],
   "source": [
    "# without feature selection or feature importance.\n",
    "print(f'score:....................: {accuracy_score(Y_validation, predictions)}')"
   ]
  },
  {
   "cell_type": "code",
   "execution_count": 282,
   "metadata": {},
   "outputs": [],
   "source": [
    "## https://medium.com/analytics-vidhya/catboost-101-fb2fdc3398f3\n",
    "from catboost import CatBoostClassifier, Pool\n",
    "\n",
    "cat_model = CatBoostClassifier(\n",
    "    iterations = 100, # 1000 are ideal\n",
    "    loss_function='MultiClass',\n",
    "    bootstrap_type = \"Bayesian\",\n",
    "    eval_metric = 'MultiClass',\n",
    "    leaf_estimation_iterations = 100,\n",
    "    random_strength = 0.5,\n",
    "    depth = 7,\n",
    "    l2_leaf_reg = 5,\n",
    "    learning_rate=0.1,\n",
    "    bagging_temperature = 0.5\n",
    "    #task_type = \"GPU\",\n",
    ")"
   ]
  },
  {
   "cell_type": "code",
   "execution_count": 283,
   "metadata": {},
   "outputs": [
    {
     "name": "stderr",
     "output_type": "stream",
     "text": [
      "Custom logger is already specified. Specify more than one logger at same time is not thread safe."
     ]
    },
    {
     "name": "stdout",
     "output_type": "stream",
     "text": [
      "0:\tlearn: 0.4714171\ttotal: 3.15s\tremaining: 5m 12s\n",
      "1:\tlearn: 0.3363978\ttotal: 6.23s\tremaining: 5m 5s\n",
      "2:\tlearn: 0.2581002\ttotal: 13.6s\tremaining: 7m 18s\n",
      "3:\tlearn: 0.2084951\ttotal: 17s\tremaining: 6m 48s\n",
      "4:\tlearn: 0.1800558\ttotal: 23.8s\tremaining: 7m 32s\n",
      "5:\tlearn: 0.1618456\ttotal: 27.2s\tremaining: 7m 6s\n",
      "6:\tlearn: 0.1501036\ttotal: 34.2s\tremaining: 7m 34s\n",
      "7:\tlearn: 0.1418871\ttotal: 40.9s\tremaining: 7m 50s\n",
      "8:\tlearn: 0.1361168\ttotal: 48.1s\tremaining: 8m 6s\n",
      "9:\tlearn: 0.1312905\ttotal: 54.9s\tremaining: 8m 13s\n",
      "10:\tlearn: 0.1279533\ttotal: 1m 2s\tremaining: 8m 21s\n",
      "11:\tlearn: 0.1254752\ttotal: 1m 8s\tremaining: 8m 24s\n",
      "12:\tlearn: 0.1233955\ttotal: 1m 11s\tremaining: 7m 58s\n",
      "13:\tlearn: 0.1218936\ttotal: 1m 18s\tremaining: 8m 1s\n",
      "14:\tlearn: 0.1204857\ttotal: 1m 24s\tremaining: 7m 58s\n",
      "15:\tlearn: 0.1193689\ttotal: 1m 31s\tremaining: 7m 59s\n",
      "16:\tlearn: 0.1185291\ttotal: 1m 37s\tremaining: 7m 58s\n",
      "17:\tlearn: 0.1177098\ttotal: 1m 43s\tremaining: 7m 49s\n",
      "18:\tlearn: 0.1170997\ttotal: 1m 49s\tremaining: 7m 46s\n",
      "19:\tlearn: 0.1164284\ttotal: 1m 56s\tremaining: 7m 44s\n",
      "20:\tlearn: 0.1159428\ttotal: 2m 2s\tremaining: 7m 40s\n",
      "21:\tlearn: 0.1154836\ttotal: 2m 9s\tremaining: 7m 37s\n",
      "22:\tlearn: 0.1151228\ttotal: 2m 12s\tremaining: 7m 22s\n",
      "23:\tlearn: 0.1148393\ttotal: 2m 18s\tremaining: 7m 19s\n",
      "24:\tlearn: 0.1144711\ttotal: 2m 25s\tremaining: 7m 15s\n",
      "25:\tlearn: 0.1142056\ttotal: 2m 31s\tremaining: 7m 12s\n",
      "26:\tlearn: 0.1138016\ttotal: 2m 38s\tremaining: 7m 7s\n",
      "27:\tlearn: 0.1135867\ttotal: 2m 44s\tremaining: 7m 3s\n",
      "28:\tlearn: 0.1133617\ttotal: 2m 51s\tremaining: 6m 59s\n",
      "29:\tlearn: 0.1131481\ttotal: 2m 57s\tremaining: 6m 54s\n",
      "30:\tlearn: 0.1129433\ttotal: 3m 1s\tremaining: 6m 43s\n",
      "31:\tlearn: 0.1128139\ttotal: 3m 7s\tremaining: 6m 39s\n",
      "32:\tlearn: 0.1126604\ttotal: 3m 14s\tremaining: 6m 34s\n",
      "33:\tlearn: 0.1125410\ttotal: 3m 20s\tremaining: 6m 30s\n",
      "34:\tlearn: 0.1123556\ttotal: 3m 27s\tremaining: 6m 25s\n",
      "35:\tlearn: 0.1121707\ttotal: 3m 33s\tremaining: 6m 20s\n",
      "36:\tlearn: 0.1120697\ttotal: 3m 40s\tremaining: 6m 15s\n",
      "37:\tlearn: 0.1119436\ttotal: 3m 46s\tremaining: 6m 9s\n",
      "38:\tlearn: 0.1118409\ttotal: 3m 53s\tremaining: 6m 4s\n",
      "39:\tlearn: 0.1117414\ttotal: 3m 59s\tremaining: 5m 59s\n",
      "40:\tlearn: 0.1116501\ttotal: 4m 5s\tremaining: 5m 53s\n",
      "41:\tlearn: 0.1115431\ttotal: 4m 12s\tremaining: 5m 48s\n",
      "42:\tlearn: 0.1114298\ttotal: 4m 18s\tremaining: 5m 43s\n",
      "43:\tlearn: 0.1113224\ttotal: 4m 25s\tremaining: 5m 37s\n",
      "44:\tlearn: 0.1112429\ttotal: 4m 31s\tremaining: 5m 32s\n",
      "45:\tlearn: 0.1111553\ttotal: 4m 38s\tremaining: 5m 26s\n",
      "46:\tlearn: 0.1110841\ttotal: 4m 45s\tremaining: 5m 21s\n",
      "47:\tlearn: 0.1110133\ttotal: 4m 51s\tremaining: 5m 16s\n",
      "48:\tlearn: 0.1108228\ttotal: 4m 58s\tremaining: 5m 10s\n",
      "49:\tlearn: 0.1107466\ttotal: 5m 1s\tremaining: 5m 1s\n",
      "50:\tlearn: 0.1106637\ttotal: 5m 7s\tremaining: 4m 55s\n",
      "51:\tlearn: 0.1106028\ttotal: 5m 14s\tremaining: 4m 50s\n",
      "52:\tlearn: 0.1105294\ttotal: 5m 20s\tremaining: 4m 44s\n",
      "53:\tlearn: 0.1104803\ttotal: 5m 27s\tremaining: 4m 38s\n",
      "54:\tlearn: 0.1104418\ttotal: 5m 33s\tremaining: 4m 32s\n",
      "55:\tlearn: 0.1103913\ttotal: 5m 39s\tremaining: 4m 27s\n",
      "56:\tlearn: 0.1103350\ttotal: 5m 46s\tremaining: 4m 21s\n",
      "57:\tlearn: 0.1102903\ttotal: 5m 52s\tremaining: 4m 15s\n",
      "58:\tlearn: 0.1102361\ttotal: 5m 59s\tremaining: 4m 9s\n",
      "59:\tlearn: 0.1101518\ttotal: 6m 5s\tremaining: 4m 3s\n",
      "60:\tlearn: 0.1101107\ttotal: 6m 12s\tremaining: 3m 57s\n",
      "61:\tlearn: 0.1100522\ttotal: 6m 18s\tremaining: 3m 52s\n",
      "62:\tlearn: 0.1100045\ttotal: 6m 25s\tremaining: 3m 46s\n",
      "63:\tlearn: 0.1099106\ttotal: 6m 31s\tremaining: 3m 40s\n",
      "64:\tlearn: 0.1098472\ttotal: 6m 37s\tremaining: 3m 34s\n",
      "65:\tlearn: 0.1097974\ttotal: 6m 41s\tremaining: 3m 27s\n",
      "66:\tlearn: 0.1097494\ttotal: 6m 48s\tremaining: 3m 21s\n",
      "67:\tlearn: 0.1097139\ttotal: 6m 54s\tremaining: 3m 15s\n",
      "68:\tlearn: 0.1096784\ttotal: 7m 1s\tremaining: 3m 9s\n",
      "69:\tlearn: 0.1096317\ttotal: 7m 7s\tremaining: 3m 3s\n",
      "70:\tlearn: 0.1095800\ttotal: 7m 14s\tremaining: 2m 57s\n",
      "71:\tlearn: 0.1095507\ttotal: 7m 20s\tremaining: 2m 51s\n",
      "72:\tlearn: 0.1095031\ttotal: 7m 26s\tremaining: 2m 45s\n",
      "73:\tlearn: 0.1094653\ttotal: 7m 33s\tremaining: 2m 39s\n",
      "74:\tlearn: 0.1094330\ttotal: 7m 39s\tremaining: 2m 33s\n",
      "75:\tlearn: 0.1094086\ttotal: 7m 45s\tremaining: 2m 27s\n",
      "76:\tlearn: 0.1093028\ttotal: 7m 52s\tremaining: 2m 21s\n",
      "77:\tlearn: 0.1092638\ttotal: 7m 58s\tremaining: 2m 15s\n",
      "78:\tlearn: 0.1091910\ttotal: 8m 2s\tremaining: 2m 8s\n",
      "79:\tlearn: 0.1091460\ttotal: 8m 8s\tremaining: 2m 2s\n",
      "80:\tlearn: 0.1091181\ttotal: 8m 14s\tremaining: 1m 56s\n",
      "81:\tlearn: 0.1090908\ttotal: 8m 21s\tremaining: 1m 50s\n",
      "82:\tlearn: 0.1090452\ttotal: 8m 27s\tremaining: 1m 43s\n",
      "83:\tlearn: 0.1090209\ttotal: 8m 34s\tremaining: 1m 37s\n",
      "84:\tlearn: 0.1089349\ttotal: 8m 40s\tremaining: 1m 31s\n",
      "85:\tlearn: 0.1089104\ttotal: 8m 46s\tremaining: 1m 25s\n",
      "86:\tlearn: 0.1088831\ttotal: 8m 53s\tremaining: 1m 19s\n",
      "87:\tlearn: 0.1088605\ttotal: 8m 59s\tremaining: 1m 13s\n",
      "88:\tlearn: 0.1088151\ttotal: 9m 6s\tremaining: 1m 7s\n",
      "89:\tlearn: 0.1087913\ttotal: 9m 12s\tremaining: 1m 1s\n",
      "90:\tlearn: 0.1087711\ttotal: 9m 19s\tremaining: 55.3s\n",
      "91:\tlearn: 0.1087176\ttotal: 9m 25s\tremaining: 49.2s\n",
      "92:\tlearn: 0.1086957\ttotal: 9m 32s\tremaining: 43.1s\n",
      "93:\tlearn: 0.1086687\ttotal: 9m 38s\tremaining: 36.9s\n",
      "94:\tlearn: 0.1086481\ttotal: 9m 45s\tremaining: 30.8s\n",
      "95:\tlearn: 0.1086337\ttotal: 9m 51s\tremaining: 24.6s\n",
      "96:\tlearn: 0.1086090\ttotal: 9m 57s\tremaining: 18.5s\n",
      "97:\tlearn: 0.1085790\ttotal: 10m 4s\tremaining: 12.3s\n",
      "98:\tlearn: 0.1085579\ttotal: 10m 10s\tremaining: 6.17s\n",
      "99:\tlearn: 0.1085343\ttotal: 10m 17s\tremaining: 0us\n"
     ]
    },
    {
     "data": {
      "text/plain": [
       "<catboost.core.CatBoostClassifier at 0x7f5bf858afa0>"
      ]
     },
     "execution_count": 283,
     "metadata": {},
     "output_type": "execute_result"
    }
   ],
   "source": [
    "# training the model\n",
    "cat_model.fit(X_train,Y_train)"
   ]
  },
  {
   "cell_type": "code",
   "execution_count": 284,
   "metadata": {},
   "outputs": [
    {
     "name": "stdout",
     "output_type": "stream",
     "text": [
      "accuracy of the catboost:  0.9521588822926352\n"
     ]
    }
   ],
   "source": [
    "# predicting the model output\n",
    "y_pred_cat = cat_model.predict(X_validation)\n",
    "# printing the accuracy of the tuned model\n",
    "print(\"accuracy of the catboost: \",accuracy_score(Y_validation,y_pred_cat))"
   ]
  }
 ],
 "metadata": {
  "kernelspec": {
   "display_name": "Python 3",
   "language": "python",
   "name": "python3"
  },
  "language_info": {
   "codemirror_mode": {
    "name": "ipython",
    "version": 3
   },
   "file_extension": ".py",
   "mimetype": "text/x-python",
   "name": "python",
   "nbconvert_exporter": "python",
   "pygments_lexer": "ipython3",
   "version": "3.8.10"
  },
  "orig_nbformat": 4,
  "vscode": {
   "interpreter": {
    "hash": "916dbcbb3f70747c44a77c7bcd40155683ae19c65e1c03b4aa3499c5328201f1"
   }
  }
 },
 "nbformat": 4,
 "nbformat_minor": 2
}
