{
 "cells": [
  {
   "attachments": {},
   "cell_type": "markdown",
   "metadata": {},
   "source": [
    "### Feature Engineering\n",
    "\n",
    "- 3 - Modeling the dataset.\n",
    "  - read feather file.\n",
    "  - create the feature - target.\n",
    "  - Save feather format."
   ]
  },
  {
   "cell_type": "code",
   "execution_count": 1,
   "metadata": {},
   "outputs": [],
   "source": [
    "import feather\n",
    "import pandas as pd\n",
    "import time\n",
    "from sklearn.ensemble import RandomForestClassifier\n",
    "from sklearn.feature_selection import SelectKBest, f_classif, chi2\n",
    "import matplotlib.pyplot as plt\n",
    "from sklearn.model_selection import train_test_split\n",
    "from sklearn.metrics import accuracy_score\n",
    "from numpy import mean\n",
    "from sklearn.datasets import make_classification\n",
    "from sklearn.model_selection import cross_val_score\n",
    "from sklearn.model_selection import RepeatedStratifiedKFold\n",
    "from sklearn.tree import DecisionTreeClassifier\n",
    "from imblearn.pipeline import Pipeline\n",
    "from imblearn.over_sampling import RandomOverSampler"
   ]
  },
  {
   "cell_type": "code",
   "execution_count": 2,
   "metadata": {},
   "outputs": [],
   "source": [
    "# Get start time \n",
    "start_time = time.time()"
   ]
  },
  {
   "cell_type": "code",
   "execution_count": 3,
   "metadata": {},
   "outputs": [
    {
     "data": {
      "text/html": [
       "<div>\n",
       "<style scoped>\n",
       "    .dataframe tbody tr th:only-of-type {\n",
       "        vertical-align: middle;\n",
       "    }\n",
       "\n",
       "    .dataframe tbody tr th {\n",
       "        vertical-align: top;\n",
       "    }\n",
       "\n",
       "    .dataframe thead th {\n",
       "        text-align: right;\n",
       "    }\n",
       "</style>\n",
       "<table border=\"1\" class=\"dataframe\">\n",
       "  <thead>\n",
       "    <tr style=\"text-align: right;\">\n",
       "      <th></th>\n",
       "      <th>USMER</th>\n",
       "      <th>MEDICAL_UNIT</th>\n",
       "      <th>SEX</th>\n",
       "      <th>PATIENT_TYPE</th>\n",
       "      <th>INTUBED</th>\n",
       "      <th>PNEUMONIA</th>\n",
       "      <th>AGE</th>\n",
       "      <th>PREGNANT</th>\n",
       "      <th>DIABETES</th>\n",
       "      <th>COPD</th>\n",
       "      <th>...</th>\n",
       "      <th>INMSUPR</th>\n",
       "      <th>HIPERTENSION</th>\n",
       "      <th>OTHER_DISEASE</th>\n",
       "      <th>CARDIOVASCULAR</th>\n",
       "      <th>OBESITY</th>\n",
       "      <th>RENAL_CHRONIC</th>\n",
       "      <th>TOBACCO</th>\n",
       "      <th>CLASIFFICATION_FINAL</th>\n",
       "      <th>ICU</th>\n",
       "      <th>ALIVE_OR_DIED</th>\n",
       "    </tr>\n",
       "  </thead>\n",
       "  <tbody>\n",
       "    <tr>\n",
       "      <th>0</th>\n",
       "      <td>2</td>\n",
       "      <td>1</td>\n",
       "      <td>1</td>\n",
       "      <td>1</td>\n",
       "      <td>97</td>\n",
       "      <td>1</td>\n",
       "      <td>65</td>\n",
       "      <td>2</td>\n",
       "      <td>2</td>\n",
       "      <td>2</td>\n",
       "      <td>...</td>\n",
       "      <td>2</td>\n",
       "      <td>1</td>\n",
       "      <td>2</td>\n",
       "      <td>2</td>\n",
       "      <td>2</td>\n",
       "      <td>2</td>\n",
       "      <td>2</td>\n",
       "      <td>3</td>\n",
       "      <td>97</td>\n",
       "      <td>Died</td>\n",
       "    </tr>\n",
       "    <tr>\n",
       "      <th>1</th>\n",
       "      <td>2</td>\n",
       "      <td>1</td>\n",
       "      <td>2</td>\n",
       "      <td>1</td>\n",
       "      <td>97</td>\n",
       "      <td>1</td>\n",
       "      <td>72</td>\n",
       "      <td>97</td>\n",
       "      <td>2</td>\n",
       "      <td>2</td>\n",
       "      <td>...</td>\n",
       "      <td>2</td>\n",
       "      <td>1</td>\n",
       "      <td>2</td>\n",
       "      <td>2</td>\n",
       "      <td>1</td>\n",
       "      <td>1</td>\n",
       "      <td>2</td>\n",
       "      <td>5</td>\n",
       "      <td>97</td>\n",
       "      <td>Died</td>\n",
       "    </tr>\n",
       "    <tr>\n",
       "      <th>2</th>\n",
       "      <td>2</td>\n",
       "      <td>1</td>\n",
       "      <td>2</td>\n",
       "      <td>2</td>\n",
       "      <td>1</td>\n",
       "      <td>2</td>\n",
       "      <td>55</td>\n",
       "      <td>97</td>\n",
       "      <td>1</td>\n",
       "      <td>2</td>\n",
       "      <td>...</td>\n",
       "      <td>2</td>\n",
       "      <td>2</td>\n",
       "      <td>2</td>\n",
       "      <td>2</td>\n",
       "      <td>2</td>\n",
       "      <td>2</td>\n",
       "      <td>2</td>\n",
       "      <td>3</td>\n",
       "      <td>2</td>\n",
       "      <td>Died</td>\n",
       "    </tr>\n",
       "    <tr>\n",
       "      <th>3</th>\n",
       "      <td>2</td>\n",
       "      <td>1</td>\n",
       "      <td>1</td>\n",
       "      <td>1</td>\n",
       "      <td>97</td>\n",
       "      <td>2</td>\n",
       "      <td>53</td>\n",
       "      <td>2</td>\n",
       "      <td>2</td>\n",
       "      <td>2</td>\n",
       "      <td>...</td>\n",
       "      <td>2</td>\n",
       "      <td>2</td>\n",
       "      <td>2</td>\n",
       "      <td>2</td>\n",
       "      <td>2</td>\n",
       "      <td>2</td>\n",
       "      <td>2</td>\n",
       "      <td>7</td>\n",
       "      <td>97</td>\n",
       "      <td>Died</td>\n",
       "    </tr>\n",
       "    <tr>\n",
       "      <th>4</th>\n",
       "      <td>2</td>\n",
       "      <td>1</td>\n",
       "      <td>2</td>\n",
       "      <td>1</td>\n",
       "      <td>97</td>\n",
       "      <td>2</td>\n",
       "      <td>68</td>\n",
       "      <td>97</td>\n",
       "      <td>1</td>\n",
       "      <td>2</td>\n",
       "      <td>...</td>\n",
       "      <td>2</td>\n",
       "      <td>1</td>\n",
       "      <td>2</td>\n",
       "      <td>2</td>\n",
       "      <td>2</td>\n",
       "      <td>2</td>\n",
       "      <td>2</td>\n",
       "      <td>3</td>\n",
       "      <td>97</td>\n",
       "      <td>Died</td>\n",
       "    </tr>\n",
       "    <tr>\n",
       "      <th>...</th>\n",
       "      <td>...</td>\n",
       "      <td>...</td>\n",
       "      <td>...</td>\n",
       "      <td>...</td>\n",
       "      <td>...</td>\n",
       "      <td>...</td>\n",
       "      <td>...</td>\n",
       "      <td>...</td>\n",
       "      <td>...</td>\n",
       "      <td>...</td>\n",
       "      <td>...</td>\n",
       "      <td>...</td>\n",
       "      <td>...</td>\n",
       "      <td>...</td>\n",
       "      <td>...</td>\n",
       "      <td>...</td>\n",
       "      <td>...</td>\n",
       "      <td>...</td>\n",
       "      <td>...</td>\n",
       "      <td>...</td>\n",
       "      <td>...</td>\n",
       "    </tr>\n",
       "    <tr>\n",
       "      <th>1048570</th>\n",
       "      <td>2</td>\n",
       "      <td>13</td>\n",
       "      <td>2</td>\n",
       "      <td>1</td>\n",
       "      <td>97</td>\n",
       "      <td>2</td>\n",
       "      <td>40</td>\n",
       "      <td>97</td>\n",
       "      <td>2</td>\n",
       "      <td>2</td>\n",
       "      <td>...</td>\n",
       "      <td>2</td>\n",
       "      <td>2</td>\n",
       "      <td>2</td>\n",
       "      <td>2</td>\n",
       "      <td>2</td>\n",
       "      <td>2</td>\n",
       "      <td>2</td>\n",
       "      <td>7</td>\n",
       "      <td>97</td>\n",
       "      <td>Alive</td>\n",
       "    </tr>\n",
       "    <tr>\n",
       "      <th>1048571</th>\n",
       "      <td>1</td>\n",
       "      <td>13</td>\n",
       "      <td>2</td>\n",
       "      <td>2</td>\n",
       "      <td>2</td>\n",
       "      <td>2</td>\n",
       "      <td>51</td>\n",
       "      <td>97</td>\n",
       "      <td>2</td>\n",
       "      <td>2</td>\n",
       "      <td>...</td>\n",
       "      <td>2</td>\n",
       "      <td>1</td>\n",
       "      <td>2</td>\n",
       "      <td>2</td>\n",
       "      <td>2</td>\n",
       "      <td>2</td>\n",
       "      <td>2</td>\n",
       "      <td>7</td>\n",
       "      <td>2</td>\n",
       "      <td>Alive</td>\n",
       "    </tr>\n",
       "    <tr>\n",
       "      <th>1048572</th>\n",
       "      <td>2</td>\n",
       "      <td>13</td>\n",
       "      <td>2</td>\n",
       "      <td>1</td>\n",
       "      <td>97</td>\n",
       "      <td>2</td>\n",
       "      <td>55</td>\n",
       "      <td>97</td>\n",
       "      <td>2</td>\n",
       "      <td>2</td>\n",
       "      <td>...</td>\n",
       "      <td>2</td>\n",
       "      <td>2</td>\n",
       "      <td>2</td>\n",
       "      <td>2</td>\n",
       "      <td>2</td>\n",
       "      <td>2</td>\n",
       "      <td>2</td>\n",
       "      <td>7</td>\n",
       "      <td>97</td>\n",
       "      <td>Alive</td>\n",
       "    </tr>\n",
       "    <tr>\n",
       "      <th>1048573</th>\n",
       "      <td>2</td>\n",
       "      <td>13</td>\n",
       "      <td>2</td>\n",
       "      <td>1</td>\n",
       "      <td>97</td>\n",
       "      <td>2</td>\n",
       "      <td>28</td>\n",
       "      <td>97</td>\n",
       "      <td>2</td>\n",
       "      <td>2</td>\n",
       "      <td>...</td>\n",
       "      <td>2</td>\n",
       "      <td>2</td>\n",
       "      <td>2</td>\n",
       "      <td>2</td>\n",
       "      <td>2</td>\n",
       "      <td>2</td>\n",
       "      <td>2</td>\n",
       "      <td>7</td>\n",
       "      <td>97</td>\n",
       "      <td>Alive</td>\n",
       "    </tr>\n",
       "    <tr>\n",
       "      <th>1048574</th>\n",
       "      <td>2</td>\n",
       "      <td>13</td>\n",
       "      <td>2</td>\n",
       "      <td>1</td>\n",
       "      <td>97</td>\n",
       "      <td>2</td>\n",
       "      <td>52</td>\n",
       "      <td>97</td>\n",
       "      <td>2</td>\n",
       "      <td>2</td>\n",
       "      <td>...</td>\n",
       "      <td>2</td>\n",
       "      <td>2</td>\n",
       "      <td>2</td>\n",
       "      <td>2</td>\n",
       "      <td>2</td>\n",
       "      <td>2</td>\n",
       "      <td>2</td>\n",
       "      <td>7</td>\n",
       "      <td>97</td>\n",
       "      <td>Alive</td>\n",
       "    </tr>\n",
       "  </tbody>\n",
       "</table>\n",
       "<p>1048575 rows × 21 columns</p>\n",
       "</div>"
      ],
      "text/plain": [
       "         USMER  MEDICAL_UNIT  SEX  PATIENT_TYPE  INTUBED  PNEUMONIA  AGE  \\\n",
       "0            2             1    1             1       97          1   65   \n",
       "1            2             1    2             1       97          1   72   \n",
       "2            2             1    2             2        1          2   55   \n",
       "3            2             1    1             1       97          2   53   \n",
       "4            2             1    2             1       97          2   68   \n",
       "...        ...           ...  ...           ...      ...        ...  ...   \n",
       "1048570      2            13    2             1       97          2   40   \n",
       "1048571      1            13    2             2        2          2   51   \n",
       "1048572      2            13    2             1       97          2   55   \n",
       "1048573      2            13    2             1       97          2   28   \n",
       "1048574      2            13    2             1       97          2   52   \n",
       "\n",
       "         PREGNANT  DIABETES  COPD  ...  INMSUPR  HIPERTENSION  OTHER_DISEASE  \\\n",
       "0               2         2     2  ...        2             1              2   \n",
       "1              97         2     2  ...        2             1              2   \n",
       "2              97         1     2  ...        2             2              2   \n",
       "3               2         2     2  ...        2             2              2   \n",
       "4              97         1     2  ...        2             1              2   \n",
       "...           ...       ...   ...  ...      ...           ...            ...   \n",
       "1048570        97         2     2  ...        2             2              2   \n",
       "1048571        97         2     2  ...        2             1              2   \n",
       "1048572        97         2     2  ...        2             2              2   \n",
       "1048573        97         2     2  ...        2             2              2   \n",
       "1048574        97         2     2  ...        2             2              2   \n",
       "\n",
       "         CARDIOVASCULAR  OBESITY  RENAL_CHRONIC  TOBACCO  \\\n",
       "0                     2        2              2        2   \n",
       "1                     2        1              1        2   \n",
       "2                     2        2              2        2   \n",
       "3                     2        2              2        2   \n",
       "4                     2        2              2        2   \n",
       "...                 ...      ...            ...      ...   \n",
       "1048570               2        2              2        2   \n",
       "1048571               2        2              2        2   \n",
       "1048572               2        2              2        2   \n",
       "1048573               2        2              2        2   \n",
       "1048574               2        2              2        2   \n",
       "\n",
       "         CLASIFFICATION_FINAL  ICU  ALIVE_OR_DIED  \n",
       "0                           3   97           Died  \n",
       "1                           5   97           Died  \n",
       "2                           3    2           Died  \n",
       "3                           7   97           Died  \n",
       "4                           3   97           Died  \n",
       "...                       ...  ...            ...  \n",
       "1048570                     7   97          Alive  \n",
       "1048571                     7    2          Alive  \n",
       "1048572                     7   97          Alive  \n",
       "1048573                     7   97          Alive  \n",
       "1048574                     7   97          Alive  \n",
       "\n",
       "[1048575 rows x 21 columns]"
      ]
     },
     "execution_count": 3,
     "metadata": {},
     "output_type": "execute_result"
    }
   ],
   "source": [
    "# loading data feather format\n",
    "df_covid = pd.read_feather('../dataset/feather/featureselection.ftr')\n",
    "df_covid"
   ]
  },
  {
   "cell_type": "code",
   "execution_count": 4,
   "metadata": {},
   "outputs": [],
   "source": [
    "# Alternatively X and y can be obtained directly from the dataframe attribute:\n",
    "X = df_covid.drop('ALIVE_OR_DIED', axis=1) # drop the column target\n",
    "y = df_covid['ALIVE_OR_DIED'] # target"
   ]
  },
  {
   "cell_type": "code",
   "execution_count": 5,
   "metadata": {},
   "outputs": [],
   "source": [
    "X_new = SelectKBest(f_classif, k=20).fit_transform(X, y)"
   ]
  },
  {
   "cell_type": "code",
   "execution_count": 6,
   "metadata": {},
   "outputs": [],
   "source": [
    "# Split-out validation dataset\n",
    "X_train, X_validation, Y_train, Y_validation = train_test_split(X_new, y, test_size=0.23, random_state=1)"
   ]
  },
  {
   "cell_type": "code",
   "execution_count": 7,
   "metadata": {},
   "outputs": [
    {
     "name": "stdout",
     "output_type": "stream",
     "text": [
      "score:....................: 95.17999999999999 %\n"
     ]
    }
   ],
   "source": [
    "model = RandomForestClassifier(max_depth=15, random_state=0, n_jobs=-1) \n",
    "\n",
    "# fitting\n",
    "model.fit(X_train, Y_train)\n",
    "predictions = model.predict(X_validation)\n",
    "\n",
    "# Evaluate predictions\n",
    "print(f'score:....................: {round(accuracy_score(Y_validation, predictions), 4)*100} %')\n"
   ]
  },
  {
   "cell_type": "code",
   "execution_count": 8,
   "metadata": {},
   "outputs": [
    {
     "name": "stdout",
     "output_type": "stream",
     "text": [
      "1 - feature: USMER, importance: 0.86 %\n",
      "2 - feature: MEDICAL_UNIT, importance: 3.38 %\n",
      "3 - feature: SEX, importance: 0.45 %\n",
      "4 - feature: PATIENT_TYPE, importance: 16.9 %\n",
      "5 - feature: INTUBED, importance: 28.12 %\n",
      "6 - feature: PNEUMONIA, importance: 10.32 %\n",
      "7 - feature: AGE, importance: 13.28 %\n",
      "8 - feature: PREGNANT, importance: 0.44 %\n",
      "9 - feature: DIABETES, importance: 1.83 %\n",
      "10 - feature: COPD, importance: 0.41 %\n",
      "11 - feature: ASTHMA, importance: 0.29 %\n",
      "12 - feature: INMSUPR, importance: 0.4 %\n",
      "13 - feature: HIPERTENSION, importance: 1.43 %\n",
      "14 - feature: OTHER_DISEASE, importance: 0.48 %\n",
      "15 - feature: CARDIOVASCULAR, importance: 0.43 %\n",
      "16 - feature: OBESITY, importance: 0.64 %\n",
      "17 - feature: RENAL_CHRONIC, importance: 0.61 %\n",
      "18 - feature: TOBACCO, importance: 0.44 %\n",
      "19 - feature: CLASIFFICATION_FINAL, importance: 6.37 %\n",
      "20 - feature: ICU, importance: 12.92 %\n"
     ]
    }
   ],
   "source": [
    "list_name_features = []\n",
    "index = 1\n",
    "\n",
    "for feat, importance in zip(df_covid.columns, model.feature_importances_):\n",
    "    importance = round(importance*100, 2)\n",
    "    print(f'{index} - feature: {feat}, importance: {importance} %')\n",
    "    list_name_features.append(feat)\n",
    "    index += 1"
   ]
  },
  {
   "cell_type": "code",
   "execution_count": 9,
   "metadata": {},
   "outputs": [
    {
     "name": "stdout",
     "output_type": "stream",
     "text": [
      "USMER.......: 0.86 %\n",
      "MEDICAL_UNIT.......: 3.38 %\n",
      "SEX.......: 0.45 %\n",
      "PATIENT_TYPE.......: 16.9 %\n",
      "INTUBED.......: 28.12 %\n",
      "PNEUMONIA.......: 10.32 %\n",
      "AGE.......: 13.28 %\n",
      "PREGNANT.......: 0.44 %\n",
      "DIABETES.......: 1.83 %\n",
      "COPD.......: 0.41 %\n",
      "ASTHMA.......: 0.29 %\n",
      "INMSUPR.......: 0.4 %\n",
      "HIPERTENSION.......: 1.43 %\n",
      "OTHER_DISEASE.......: 0.48 %\n",
      "CARDIOVASCULAR.......: 0.43 %\n",
      "OBESITY.......: 0.64 %\n",
      "RENAL_CHRONIC.......: 0.61 %\n",
      "TOBACCO.......: 0.44 %\n",
      "CLASIFFICATION_FINAL.......: 6.37 %\n",
      "ICU.......: 12.92 %\n"
     ]
    }
   ],
   "source": [
    "#print(confusion_matrix(Y_validation, predictions))\n",
    "#print(classification_report(Y_validation, predictions))\n",
    " \n",
    "#The importance of a feature is computed as the (normalized) total reduction \n",
    "# of the criterion brought by that feature. See scikit learn documentation.\n",
    "list_feat_importances = list(model.feature_importances_)\n",
    "dict_feat_importances = {}\n",
    "#\n",
    "i=0\n",
    "\n",
    "for ilist in list_name_features:\n",
    "    dict_feat_importances[ilist] = list_feat_importances[i]*100 # porcentagem %\n",
    "    print(f\"{ilist}.......: {round(dict_feat_importances[ilist], 2)} %\")\n",
    "    i=i+1"
   ]
  },
  {
   "cell_type": "code",
   "execution_count": 10,
   "metadata": {},
   "outputs": [
    {
     "data": {
      "image/png": "[encoded data removed]",
      "text/plain": [
       "<Figure size 1080x360 with 1 Axes>"
      ]
     },
     "metadata": {
      "needs_background": "light"
     },
     "output_type": "display_data"
    }
   ],
   "source": [
    "# feature importance\n",
    "plt.figure(figsize=(15,5))\n",
    "plt.bar(dict_feat_importances.keys(),dict_feat_importances.values(), width=.5, color='r')\n",
    "plt.ylim(0,57)\n",
    "plt.title(\"Feature Importance - Random Forest Classifier\")\n",
    "plt.ylabel(\"%\")\n",
    "plt.xlabel(\"Feature importance\")\n",
    "plt.xticks(rotation=35)\n",
    "plt.grid(color='gray', linestyle='dashed')\n",
    "plt.show()"
   ]
  },
  {
   "cell_type": "code",
   "execution_count": 11,
   "metadata": {},
   "outputs": [],
   "source": [
    "## https://medium.com/analytics-vidhya/catboost-101-fb2fdc3398f3\n",
    "from catboost import CatBoostClassifier, Pool\n",
    "\n",
    "cat_model = CatBoostClassifier(\n",
    "    iterations = 20, # 1000 are ideal\n",
    "    loss_function='MultiClass',\n",
    "    bootstrap_type = \"Bayesian\",\n",
    "    eval_metric = 'MultiClass',\n",
    "    leaf_estimation_iterations = 100,\n",
    "    random_strength = 0.5,\n",
    "    depth = 7,\n",
    "    l2_leaf_reg = 5,\n",
    "    learning_rate=0.1,\n",
    "    bagging_temperature = 0.5,\n",
    "    thread_count=-1 # number of threads, setted all CPU cores\n",
    "    #task_type = \"GPU\",\n",
    ")"
   ]
  },
  {
   "cell_type": "code",
   "execution_count": 12,
   "metadata": {},
   "outputs": [
    {
     "name": "stdout",
     "output_type": "stream",
     "text": [
      "0:\tlearn: 0.4714075\ttotal: 3.89s\tremaining: 1m 13s\n",
      "1:\tlearn: 0.3364735\ttotal: 7.43s\tremaining: 1m 6s\n",
      "2:\tlearn: 0.2581364\ttotal: 14.3s\tremaining: 1m 21s\n",
      "3:\tlearn: 0.2085150\ttotal: 17.9s\tremaining: 1m 11s\n",
      "4:\tlearn: 0.1800402\ttotal: 24.4s\tremaining: 1m 13s\n",
      "5:\tlearn: 0.1610792\ttotal: 30.8s\tremaining: 1m 11s\n",
      "6:\tlearn: 0.1498683\ttotal: 37.2s\tremaining: 1m 9s\n",
      "7:\tlearn: 0.1409259\ttotal: 43.3s\tremaining: 1m 4s\n",
      "8:\tlearn: 0.1353644\ttotal: 49.9s\tremaining: 1m 1s\n",
      "9:\tlearn: 0.1312210\ttotal: 56.2s\tremaining: 56.2s\n",
      "10:\tlearn: 0.1278522\ttotal: 1m 3s\tremaining: 51.6s\n",
      "11:\tlearn: 0.1253261\ttotal: 1m 10s\tremaining: 46.9s\n",
      "12:\tlearn: 0.1235603\ttotal: 1m 13s\tremaining: 39.7s\n",
      "13:\tlearn: 0.1217254\ttotal: 1m 17s\tremaining: 33.2s\n",
      "14:\tlearn: 0.1205056\ttotal: 1m 25s\tremaining: 28.5s\n",
      "15:\tlearn: 0.1195580\ttotal: 1m 29s\tremaining: 22.4s\n",
      "16:\tlearn: 0.1186984\ttotal: 1m 36s\tremaining: 17s\n",
      "17:\tlearn: 0.1178672\ttotal: 1m 42s\tremaining: 11.4s\n",
      "18:\tlearn: 0.1172416\ttotal: 1m 49s\tremaining: 5.74s\n",
      "19:\tlearn: 0.1165350\ttotal: 1m 56s\tremaining: 0us\n"
     ]
    },
    {
     "data": {
      "text/plain": [
       "<catboost.core.CatBoostClassifier at 0x7f61605c5610>"
      ]
     },
     "execution_count": 12,
     "metadata": {},
     "output_type": "execute_result"
    }
   ],
   "source": [
    "# training the model\n",
    "cat_model.fit(X_train,Y_train)"
   ]
  },
  {
   "cell_type": "code",
   "execution_count": 13,
   "metadata": {},
   "outputs": [
    {
     "name": "stdout",
     "output_type": "stream",
     "text": [
      "accuracy of the catboost:  95.00999999999999 %\n"
     ]
    }
   ],
   "source": [
    "# predicting the model output\n",
    "y_pred_cat = cat_model.predict(X_validation)\n",
    "# printing the accuracy of the tuned model\n",
    "print(\"accuracy of the catboost: \", round(accuracy_score(Y_validation,y_pred_cat), 4)*100, \"%\")"
   ]
  },
  {
   "cell_type": "code",
   "execution_count": 14,
   "metadata": {},
   "outputs": [],
   "source": [
    "#https://machinelearningmastery.com/random-oversampling-and-undersampling-for-imbalanced-classification/\n",
    "# define pipeline\n",
    "steps = [('over', RandomOverSampler()), ('model', DecisionTreeClassifier())]\n",
    "pipeline = Pipeline(steps=steps)"
   ]
  },
  {
   "cell_type": "code",
   "execution_count": 15,
   "metadata": {},
   "outputs": [
    {
     "name": "stdout",
     "output_type": "stream",
     "text": [
      "F1 Score: 0.913\n"
     ]
    }
   ],
   "source": [
    "# evaluate pipeline\n",
    "cv = RepeatedStratifiedKFold(n_splits=10, n_repeats=3, random_state=1)\n",
    "scores = cross_val_score(pipeline, X, y, scoring='f1_micro', cv=cv, n_jobs=-1)\n",
    "score = mean(scores)\n",
    "print('F1 Score: %.3f' % score)"
   ]
  },
  {
   "cell_type": "code",
   "execution_count": 16,
   "metadata": {},
   "outputs": [],
   "source": [
    "steps = [('over', RandomOverSampler()), ('model', model)]\n",
    "pipeline = Pipeline(steps=steps)"
   ]
  },
  {
   "cell_type": "code",
   "execution_count": 17,
   "metadata": {},
   "outputs": [
    {
     "name": "stderr",
     "output_type": "stream",
     "text": [
      "/home/andsilva/.local/lib/python3.8/site-packages/joblib/externals/loky/process_executor.py:700: UserWarning: A worker stopped while some jobs were given to the executor. This can be caused by a too short worker timeout or by a memory leak.\n",
      "  warnings.warn(\n"
     ]
    },
    {
     "name": "stdout",
     "output_type": "stream",
     "text": [
      "F1 Score: 0.895\n"
     ]
    }
   ],
   "source": [
    "# evaluate pipeline\n",
    "cv = RepeatedStratifiedKFold(n_splits=3, n_repeats=3, random_state=1)\n",
    "scores = cross_val_score(pipeline, X, y, scoring='f1_micro', cv=cv, n_jobs=-1)\n",
    "score = mean(scores)\n",
    "print('F1 Score: %.3f' % score)"
   ]
  },
  {
   "cell_type": "code",
   "execution_count": 18,
   "metadata": {},
   "outputs": [],
   "source": [
    "from sklearn.svm import SVC\n",
    "svc = SVC(kernel = 'linear', random_state = 0)\n",
    "svc.fit(X_train, Y_train)"
   ]
  },
  {
   "cell_type": "code",
   "execution_count": null,
   "metadata": {},
   "outputs": [],
   "source": [
    "y_pred_svc = svc.predict(X_validation)\n",
    "\n",
    "from sklearn.metrics import confusion_matrix, accuracy_score\n",
    "cm_svc = confusion_matrix(Y_validation, y_pred_svc)\n",
    "print (cm_svc)\n",
    "\n",
    "acc_svc = accuracy_score(Y_validation, y_pred_svc)\n",
    "print (acc_svc)"
   ]
  }
 ],
 "metadata": {
  "kernelspec": {
   "display_name": "Python 3",
   "language": "python",
   "name": "python3"
  },
  "language_info": {
   "codemirror_mode": {
    "name": "ipython",
    "version": 3
   },
   "file_extension": ".py",
   "mimetype": "text/x-python",
   "name": "python",
   "nbconvert_exporter": "python",
   "pygments_lexer": "ipython3",
   "version": "3.8.10"
  },
  "orig_nbformat": 4,
  "vscode": {
   "interpreter": {
    "hash": "916dbcbb3f70747c44a77c7bcd40155683ae19c65e1c03b4aa3499c5328201f1"
   }
  }
 },
 "nbformat": 4,
 "nbformat_minor": 2
}
